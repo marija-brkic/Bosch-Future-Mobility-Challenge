import skimage
import cv2
import matplotlib.pyplot as plt
import skimage
from skimage import io
from skimage.color import rgb2gray
import numpy as np


zero = 1e-6


#Distances from left and right sides of the road

left_distance = 0
right_distance = 0
stop_line = 0


def draw_lines(N, M, x_center, image, lines):
    line_image = np.zeros((M,N,3), dtype='uint8')
    for line in lines:
        x1,y1,x2,y2 = np.array(line).reshape(4)
        x1 = int(x1)
        y1 = int(y1)
        x2 = int(x2)
        y2 = int(y2)
        cv2.line(line_image, (x1,y1), (x2,y2), (0,255,0), 5)
    line_image = cv2.circle(line_image, (int(x_center), int((M-1)*0.9)), 1, (0,255,255), 5)
    line_image = cv2.circle(line_image, (N//2, int((M-1)*0.9)), 1, (0,0,255), 5)
    image_with_lines = cv2.addWeighted(image, 0.5, line_image, 1, 1)
    io.imshow(image_with_lines)
    plt.title("Linija puta")
    plt.show()
    


def curve_steering(side, coeffs, distance, image):
    M,N = np.shape(image)[0], np.shape(image)[1]
    k = coeffs[0]
    n = coeffs[1]
    y1_temp = M-1
    y2_temp = int(0.4*M)
    x1_temp = (y1_temp-n)/k
    x2_temp = (y2_temp-n)/k
    lines = np.array([[x1_temp,y1_temp,x2_temp,y2_temp]])
    
    if(side == 'left'): 
        x_right = (int(0.9*M)-n)/k
        x_center = x_right - distance
        draw_lines(N, M, x_center, image, lines)
        return x_center - int(N/2)
    if(side == 'right'): 
        x_left = (int(0.9*M)-n)/k
        x_center = x_left + distance
        draw_lines(N, M, x_center, image, lines)
        return x_center - int(N/2)
         


def line_detection(image):
    
    global left_distance
    global right_distance
    global stop_line
    
    #Canny-jev algoritam za nalazenje ivica
    
    image_gray = rgb2gray(image)
    image_canny = skimage.feature.canny(image_gray, sigma=1, low_threshold=0.2, high_threshold=0.8)
    #image_canny = skimage.feature.canny(image_gray, sigma=1, low_threshold=0.3, high_threshold=0.6)
    
    #Izdvajanje zeljenog regiona slike
    
    M,N = np.shape(image_canny)
    image_canny[:int(M/3),:] = 0
    #image_canny[:int(M/2),:] = 0
    
    polygons = np.array([(M,0), (M,N), (150,N), (0,N//2),(150,0)])
    #polygons = np.array([(M,0), (M,N),(0,N//2)])
    mask = skimage.draw.polygon2mask((M,N), polygons)
    
    image_canny_interest = image_canny * mask
    image_canny_interest = np.uint8(image_canny_interest)
    
    #Hafova transformacija za nalazenje pravih linija
    starting_length = 20
    #starting_length = 120
    
    while True:
        lines = cv2.HoughLinesP(image_canny_interest, 2, np.pi/180, 100, minLineLength=starting_length, maxLineGap=4)
        lines = np.array(lines)
        if np.shape(lines):
            break
        else:
            starting_length -= 2
        if starting_length <= 0:
            return
    
    left_fit = []
    right_fit = []
    flag = False
    
    num1 = 0
    num2 = 0
    num3 = 0
    
    for line in lines:
        num1 += 1
        x1,y1,x2,y2 = line.reshape(4)
        
        k = (y2-y1)/(x2-x1)
        n = y1 - k*x1
        if k >= -0.5 and k <= 0.5 and flag==False:
            stop_line += 1
            flag = True
            if(stop_line >= 4):
                print('POPRECNA LINIJA')
        if k < -0.5 and k > -100000:
            left_fit.append([k,n])
            num2 += 1
        elif k >= 0.5 and k <= 100000:
            right_fit.append([k,n])   
            num3 += 1
    if num1 == num2 + num3:
        stop_line = 0
        
    if len(left_fit) == 0:
        if len(right_fit) == 0:
            return None   
        elif len(right_fit) == 1:
            right_avg = right_fit
        else:
            right_avg = np.average(right_fit, axis=0)
        e = curve_steering('left', right_avg, right_distance, image)
        return e
            
    if len(right_fit) == 0:  
        if len(left_fit) == 1:
            left_avg = left_fit
        else:
            left_avg = np.average(left_fit, axis=0)
        e = curve_steering('right', left_avg, left_distance, image)
        return e

    if len(left_fit) == 1:
        left_avg = left_fit
    else:
        left_avg = np.average(left_fit, axis=0)
        
    if len(right_fit) == 1:
        right_avg = right_fit
    else:
        right_avg = np.average(right_fit, axis=0)
        
    
    k_left = left_avg[0]
    n_left = left_avg[1]
    k_right = right_avg[0]
    n_right = right_avg[1]
    
    y1 = np.shape(image)[0]
    y2 = int(0.4*np.shape(image)[0])
    
    x1 = int((y1-n_left)/k_left)
    x2 = int((y2-n_left)/k_left)
    x3 = int((y1-n_right)/k_right)
    x4 = int((y2-n_right)/k_right)
    
    average_lines = np.array([[x1,y1,x2,y2], [x3,y1,x4,y2]])
    
    line_image = np.zeros((M,N,3), dtype='uint8')
    
    if lines is not None:
        for line in average_lines:
            x1_temp,y1_temp,x2_temp,y2_temp = np.array(line).reshape(4)
            x1_temp = int(x1_temp)
            y1_temp = int(y1_temp)
            x2_temp = int(x2_temp)
            y2_temp = int(y2_temp)
            cv2.line(line_image, (x1_temp,y1_temp), (x2_temp,y2_temp), (0,255,0), 5)
            
    x1_center, y1_center = int((x1+x3)/2), int(y1)
    x2_center, y2_center = int((x2+x4)/2), int(y2)
    cv2.line(line_image, (x1_center,y1_center), (x2_center,y2_center), (255,0,0), 2)
       
    y_shifted = int((M-1)*0.9)
    #(y1_center-y_shifted) = (x1_center-x_shifted) *((y2_center-y1_center)/(x2_center-x1_center))
    x_shifted_left = (y_shifted-n_left)/k_left
    x_shifted_right = (y_shifted-n_right)/k_right
    x_shifted = x1_center - (y1_center-y_shifted)/((y1_center-y2_center)/(x1_center-x2_center+zero))
    
    line_image = cv2.circle(line_image, (int(x_shifted), int(y_shifted)), 1, (0,255,255), 5)
    line_image = cv2.circle(line_image, (N//2, int((M-1)*0.9)), 1, (0,0,255), 5)
    image_with_lines = cv2.addWeighted(image, 0.5, line_image, 1, 1)
    
    e = x_shifted - int(N/2)#Signal greske
    
    io.imshow(image_with_lines)
    plt.title("Road line")
    plt.show()
    
    left_distance = abs(x_shifted-x_shifted_left)
    right_distance = abs(x_shifted-x_shifted_right)
    
    return e


class PIDController:
    
    def __init__(self, Kp, Ki, Kd, setpoint=0):
        self.Kp = Kp
        self.Ki = Ki
        self.Kd = Kd
        self.r = r
        self.prev_error = 0
        self.integral = 0

    def compute(self, current_error):
        #error = self.setpoint - current_value
        error = current_error - self.r #PROVERI

        # Proportional term
        P = self.Kp * error

        # Integral term
        self.integral += error
        I = self.Ki * self.integral

        # Derivative term
        D = self.Kd * (error - self.prev_error)
        self.prev_error = error

        # Total control output
        control_output = P + I + D

        return control_output


def generate_steering(image, pid_controller):
    e = line_detection(image) #Error
    if e is None:
        return
    steering_value = pid_controller.compute(e) 
    steering_value = max(-20, min(steering_value, 20))
    
    print(f"Error: {e}")
    print(f"Steering value: {steering_value}")






import time

r = 0 #difference of x coordinates

#Initializing PID

pid_controller = PIDController(Kp=0.1, Ki=0.01, Kd=0.1, setpoint=r)

"""
frame = io.imread('image3.jpg')
tic = time.time()
generate_steering(frame, pid_controller)
toc = time.time()

time = toc-tic
print(f"Vreme izvrsavanja: {time} sekunde")
# PROSLEDI VOZILU
"""


cap = cv2.VideoCapture('video.mp4') 

while cap.isOpened():
    
    ret, frame = cap.read()
    generate_steering(frame, pid_controller)
    
    # Press 'q' to exit the loop
    if cv2.waitKey(25) & 0xFF == ord('q'):
        break

# Release the video capture object and close the windows
cap.release()
cv2.destroyAllWindows()



